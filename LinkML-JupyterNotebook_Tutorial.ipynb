{
 "cells": [
  {
   "cell_type": "markdown",
   "id": "245ee902",
   "metadata": {},
   "source": [
    "# LinkML Tutorial by Hendrik Borgelt"
   ]
  },
  {
   "cell_type": "markdown",
   "id": "77c9c47c",
   "metadata": {},
   "source": [
    "This Jupyter Notebook should help you orperate LinkML in Python Script Environment, which is not declared in depth in the LinkML Documentation of the LinkML website. However in order to not rephrase every sentence and describe all the features of LinkML again, this tutorial will forego most of the descriptions and just focus on the implementation in python scripts.\n",
    "\n",
    "However in order to give Windows users the best experience possible some additions on how to switch from Mac command line commands to Windows command line comments will be given beforehand."
   ]
  },
  {
   "cell_type": "markdown",
   "id": "2d4fb075",
   "metadata": {},
   "source": [
    "## Switching from Mac to Windows commands\n",
    "\n",
    "in this sections all command line commands will be given in their Windows Version, however if you want to use them make sure to use your command line tool in order to make them work. Excetuting these commands in the jupyter notebook will cause failiures, as Jupyter uses a python enviroment.\n",
    "\n",
    "For references to the LinkML Tutorial please look here: https://linkml.io/linkml/intro/tutorial.html"
   ]
  },
  {
   "cell_type": "markdown",
   "id": "96f5b405",
   "metadata": {},
   "source": [
    "### Tutorial 1 (https://linkml.io/linkml/intro/tutorial01.html)"
   ]
  },
  {
   "cell_type": "markdown",
   "id": "40a7b32c",
   "metadata": {},
   "source": [
    "First check the path Jupyter Notebook is currently using in order to not save or work at any inconvinient place"
   ]
  },
  {
   "cell_type": "code",
   "execution_count": 1,
   "id": "38a9dd05",
   "metadata": {
    "scrolled": true
   },
   "outputs": [
    {
     "name": "stdout",
     "output_type": "stream",
     "text": [
      "C:\\Users\\smhhborg\n"
     ]
    }
   ],
   "source": [
    "!cd"
   ]
  },
  {
   "cell_type": "markdown",
   "id": "4f4e6757",
   "metadata": {},
   "source": [
    "Either create a new folder whereever you want or just switch to another directory.\n",
    "\n",
    "new folder:"
   ]
  },
  {
   "cell_type": "code",
   "execution_count": 2,
   "id": "0b51a69a",
   "metadata": {},
   "outputs": [],
   "source": [
    "mkdir linkml-for-Python-tutorial"
   ]
  },
  {
   "cell_type": "markdown",
   "id": "a6ffea33",
   "metadata": {},
   "source": [
    "change directory"
   ]
  },
  {
   "cell_type": "code",
   "execution_count": 3,
   "id": "fd86c488",
   "metadata": {},
   "outputs": [
    {
     "name": "stdout",
     "output_type": "stream",
     "text": [
      "C:\\Users\\smhhborg\\linkml-for-Python-tutorial\n"
     ]
    }
   ],
   "source": [
    "%cd \"linkml-for-Python-tutorial\""
   ]
  },
  {
   "cell_type": "markdown",
   "id": "48fd28b4",
   "metadata": {},
   "source": [
    "check your path again!"
   ]
  },
  {
   "cell_type": "code",
   "execution_count": 4,
   "id": "fa7776cb",
   "metadata": {
    "scrolled": true
   },
   "outputs": [
    {
     "name": "stdout",
     "output_type": "stream",
     "text": [
      "C:\\Users\\smhhborg\\linkml-for-Python-tutorial\n"
     ]
    }
   ],
   "source": [
    "!cd"
   ]
  },
  {
   "cell_type": "markdown",
   "id": "0ecd0104",
   "metadata": {},
   "source": [
    "now lets start with the tutorial\n",
    "1. we create the subfolder in which all python tools will be downloaded and all commands be excuted"
   ]
  },
  {
   "cell_type": "code",
   "execution_count": 5,
   "id": "da80931f",
   "metadata": {},
   "outputs": [],
   "source": [
    "mkdir linkml-tutorial"
   ]
  },
  {
   "cell_type": "markdown",
   "id": "1b7ca382",
   "metadata": {},
   "source": [
    "2. Change into the local directory"
   ]
  },
  {
   "cell_type": "code",
   "execution_count": 6,
   "id": "d4e941b7",
   "metadata": {},
   "outputs": [
    {
     "name": "stdout",
     "output_type": "stream",
     "text": [
      "C:\\Users\\smhhborg\\linkml-for-Python-tutorial\\linkml-tutorial\n"
     ]
    }
   ],
   "source": [
    "cd linkml-tutorial"
   ]
  },
  {
   "cell_type": "markdown",
   "id": "481e428a",
   "metadata": {},
   "source": [
    "3. Create a virtual python environment. This means that all your packages and all manipulations to the main python structure will only manipulate the virtual Python structure and not permanently damage your python version.\n",
    "\n",
    "The language here is slightly different as windows stores python commands not with the \"python3\" variable but with the \"py\" variable. It is quiet crucial to use the right syntax in whitespaces (for example your are not allowed to have a space between \"-\" and \"m\")"
   ]
  },
  {
   "cell_type": "code",
   "execution_count": 7,
   "id": "335b3ffa",
   "metadata": {},
   "outputs": [],
   "source": [
    "!py -m venv venv"
   ]
  },
  {
   "cell_type": "markdown",
   "id": "b42e2d0e",
   "metadata": {},
   "source": [
    "4. now we need to activate the environment"
   ]
  },
  {
   "cell_type": "code",
   "execution_count": 8,
   "id": "9bf387ae",
   "metadata": {},
   "outputs": [],
   "source": [
    "!\"venv/Scripts/activate\""
   ]
  },
  {
   "cell_type": "markdown",
   "id": "ba3f5920",
   "metadata": {},
   "source": [
    "5. And lastly we need to install the python LinkML package via the pip installer"
   ]
  },
  {
   "cell_type": "code",
   "execution_count": 9,
   "id": "1cf61a1f",
   "metadata": {
    "scrolled": false
   },
   "outputs": [
    {
     "name": "stdout",
     "output_type": "stream",
     "text": [
      "Requirement already satisfied: linkml in c:\\users\\smhhborg\\appdata\\local\\anaconda3\\lib\\site-packages (1.5.6)\n",
      "Requirement already satisfied: hbreader in c:\\users\\smhhborg\\appdata\\local\\anaconda3\\lib\\site-packages (from linkml) (0.9.1)\n",
      "Requirement already satisfied: antlr4-python3-runtime<4.10,>=4.9.0 in c:\\users\\smhhborg\\appdata\\local\\anaconda3\\lib\\site-packages (from linkml) (4.9.3)\n",
      "Requirement already satisfied: isodate>=0.6.0 in c:\\users\\smhhborg\\appdata\\local\\anaconda3\\lib\\site-packages (from linkml) (0.6.1)\n",
      "Requirement already satisfied: pyyaml in c:\\users\\smhhborg\\appdata\\local\\anaconda3\\lib\\site-packages (from linkml) (6.0)\n",
      "Requirement already satisfied: jsonasobj2<2.0.0,>=1.0.3 in c:\\users\\smhhborg\\appdata\\local\\anaconda3\\lib\\site-packages (from linkml) (1.0.4)\n",
      "Requirement already satisfied: watchdog>=0.9.0 in c:\\users\\smhhborg\\appdata\\local\\anaconda3\\lib\\site-packages (from linkml) (2.1.6)\n",
      "Requirement already satisfied: jinja2>=3.1.0 in c:\\users\\smhhborg\\appdata\\local\\anaconda3\\lib\\site-packages (from linkml) (3.1.2)\n",
      "Requirement already satisfied: jsonschema[format]>=4.0.0 in c:\\users\\smhhborg\\appdata\\local\\anaconda3\\lib\\site-packages (from linkml) (4.17.3)\n",
      "Requirement already satisfied: requests>=2.22 in c:\\users\\smhhborg\\appdata\\local\\anaconda3\\lib\\site-packages (from linkml) (2.28.1)\n",
      "Requirement already satisfied: pyshexc>=0.8.3 in c:\\users\\smhhborg\\appdata\\local\\anaconda3\\lib\\site-packages (from linkml) (0.9.1)\n",
      "Requirement already satisfied: python-dateutil in c:\\users\\smhhborg\\appdata\\local\\anaconda3\\lib\\site-packages (from linkml) (2.8.2)\n",
      "Requirement already satisfied: prefixmaps>=0.1.3 in c:\\users\\smhhborg\\appdata\\local\\anaconda3\\lib\\site-packages (from linkml) (0.1.5)\n",
      "Requirement already satisfied: linkml-dataops in c:\\users\\smhhborg\\appdata\\local\\anaconda3\\lib\\site-packages (from linkml) (0.1.0)\n",
      "Requirement already satisfied: pyshex>=0.7.20 in c:\\users\\smhhborg\\appdata\\local\\anaconda3\\lib\\site-packages (from linkml) (0.8.1)\n",
      "Requirement already satisfied: openpyxl in c:\\users\\smhhborg\\appdata\\local\\anaconda3\\lib\\site-packages (from linkml) (3.0.10)\n",
      "Requirement already satisfied: rdflib>=6.0.0 in c:\\users\\smhhborg\\appdata\\local\\anaconda3\\lib\\site-packages (from linkml) (6.3.2)\n",
      "Requirement already satisfied: pydantic in c:\\users\\smhhborg\\appdata\\local\\anaconda3\\lib\\site-packages (from linkml) (1.10.9)\n",
      "Requirement already satisfied: click>=7.0 in c:\\users\\smhhborg\\appdata\\local\\anaconda3\\lib\\site-packages (from linkml) (8.1.3)\n",
      "Requirement already satisfied: parse in c:\\users\\smhhborg\\appdata\\local\\anaconda3\\lib\\site-packages (from linkml) (1.19.1)\n",
      "Requirement already satisfied: linkml-runtime>=1.5.4 in c:\\users\\smhhborg\\appdata\\local\\anaconda3\\lib\\site-packages (from linkml) (1.5.4)\n",
      "Requirement already satisfied: sqlalchemy>=1.4.31 in c:\\users\\smhhborg\\appdata\\local\\anaconda3\\lib\\site-packages (from linkml) (1.4.39)\n",
      "Requirement already satisfied: graphviz>=0.10.1 in c:\\users\\smhhborg\\appdata\\local\\anaconda3\\lib\\site-packages (from linkml) (0.20.1)\n",
      "Requirement already satisfied: prefixcommons>=0.1.7 in c:\\users\\smhhborg\\appdata\\local\\anaconda3\\lib\\site-packages (from linkml) (0.1.12)\n",
      "Requirement already satisfied: pyjsg>=0.11.6 in c:\\users\\smhhborg\\appdata\\local\\anaconda3\\lib\\site-packages (from linkml) (0.11.10)\n",
      "Requirement already satisfied: colorama in c:\\users\\smhhborg\\appdata\\local\\anaconda3\\lib\\site-packages (from click>=7.0->linkml) (0.4.6)\n",
      "Requirement already satisfied: six in c:\\users\\smhhborg\\appdata\\local\\anaconda3\\lib\\site-packages (from isodate>=0.6.0->linkml) (1.16.0)\n",
      "Requirement already satisfied: MarkupSafe>=2.0 in c:\\users\\smhhborg\\appdata\\local\\anaconda3\\lib\\site-packages (from jinja2>=3.1.0->linkml) (2.1.1)\n",
      "Requirement already satisfied: attrs>=17.4.0 in c:\\users\\smhhborg\\appdata\\local\\anaconda3\\lib\\site-packages (from jsonschema[format]>=4.0.0->linkml) (22.1.0)\n",
      "Requirement already satisfied: pyrsistent!=0.17.0,!=0.17.1,!=0.17.2,>=0.14.0 in c:\\users\\smhhborg\\appdata\\local\\anaconda3\\lib\\site-packages (from jsonschema[format]>=4.0.0->linkml) (0.18.0)\n",
      "Requirement already satisfied: rfc3339-validator in c:\\users\\smhhborg\\appdata\\local\\anaconda3\\lib\\site-packages (from jsonschema[format]>=4.0.0->linkml) (0.1.4)\n",
      "Requirement already satisfied: jsonpointer>1.13 in c:\\users\\smhhborg\\appdata\\local\\anaconda3\\lib\\site-packages (from jsonschema[format]>=4.0.0->linkml) (2.1)\n",
      "Requirement already satisfied: uri-template in c:\\users\\smhhborg\\appdata\\local\\anaconda3\\lib\\site-packages (from jsonschema[format]>=4.0.0->linkml) (1.3.0)\n",
      "Requirement already satisfied: isoduration in c:\\users\\smhhborg\\appdata\\local\\anaconda3\\lib\\site-packages (from jsonschema[format]>=4.0.0->linkml) (20.11.0)\n",
      "Requirement already satisfied: idna in c:\\users\\smhhborg\\appdata\\local\\anaconda3\\lib\\site-packages (from jsonschema[format]>=4.0.0->linkml) (3.4)\n",
      "Requirement already satisfied: rfc3987 in c:\\users\\smhhborg\\appdata\\local\\anaconda3\\lib\\site-packages (from jsonschema[format]>=4.0.0->linkml) (1.3.8)\n",
      "Requirement already satisfied: fqdn in c:\\users\\smhhborg\\appdata\\local\\anaconda3\\lib\\site-packages (from jsonschema[format]>=4.0.0->linkml) (1.5.1)\n",
      "Requirement already satisfied: webcolors>=1.11 in c:\\users\\smhhborg\\appdata\\local\\anaconda3\\lib\\site-packages (from jsonschema[format]>=4.0.0->linkml) (1.13)\n",
      "Requirement already satisfied: curies>=0.5.4 in c:\\users\\smhhborg\\appdata\\local\\anaconda3\\lib\\site-packages (from linkml-runtime>=1.5.4->linkml) (0.5.5)\n",
      "Requirement already satisfied: deprecated in c:\\users\\smhhborg\\appdata\\local\\anaconda3\\lib\\site-packages (from linkml-runtime>=1.5.4->linkml) (1.2.14)\n",
      "Requirement already satisfied: json-flattener>=0.1.9 in c:\\users\\smhhborg\\appdata\\local\\anaconda3\\lib\\site-packages (from linkml-runtime>=1.5.4->linkml) (0.1.9)\n",
      "Requirement already satisfied: pytest-logging<2016.0.0,>=2015.11.4 in c:\\users\\smhhborg\\appdata\\local\\anaconda3\\lib\\site-packages (from prefixcommons>=0.1.7->linkml) (2015.11.4)\n",
      "Requirement already satisfied: importlib-metadata>=1.0.0 in c:\\users\\smhhborg\\appdata\\local\\anaconda3\\lib\\site-packages (from prefixmaps>=0.1.3->linkml) (4.11.3)\n",
      "Requirement already satisfied: greenlet==2.0.1 in c:\\users\\smhhborg\\appdata\\local\\anaconda3\\lib\\site-packages (from prefixmaps>=0.1.3->linkml) (2.0.1)\n",
      "Requirement already satisfied: typing-extensions<5.0.0,>=4.4.0 in c:\\users\\smhhborg\\appdata\\local\\anaconda3\\lib\\site-packages (from prefixmaps>=0.1.3->linkml) (4.4.0)\n",
      "Requirement already satisfied: jsonasobj>=1.2.1 in c:\\users\\smhhborg\\appdata\\local\\anaconda3\\lib\\site-packages (from pyjsg>=0.11.6->linkml) (1.3.1)\n",
      "Requirement already satisfied: shexjsg>=0.8.2 in c:\\users\\smhhborg\\appdata\\local\\anaconda3\\lib\\site-packages (from pyshex>=0.7.20->linkml) (0.8.2)\n",
      "Requirement already satisfied: urllib3 in c:\\users\\smhhborg\\appdata\\local\\anaconda3\\lib\\site-packages (from pyshex>=0.7.20->linkml) (1.26.14)\n",
      "Requirement already satisfied: sparqlslurper>=0.5.1 in c:\\users\\smhhborg\\appdata\\local\\anaconda3\\lib\\site-packages (from pyshex>=0.7.20->linkml) (0.5.1)\n",
      "Requirement already satisfied: rdflib-shim in c:\\users\\smhhborg\\appdata\\local\\anaconda3\\lib\\site-packages (from pyshex>=0.7.20->linkml) (1.0.3)\n",
      "Requirement already satisfied: sparqlwrapper>=1.8.5 in c:\\users\\smhhborg\\appdata\\local\\anaconda3\\lib\\site-packages (from pyshex>=0.7.20->linkml) (2.0.0)\n",
      "Requirement already satisfied: cfgraph>=0.2.1 in c:\\users\\smhhborg\\appdata\\local\\anaconda3\\lib\\site-packages (from pyshex>=0.7.20->linkml) (0.2.1)\n",
      "Requirement already satisfied: chardet in c:\\users\\smhhborg\\appdata\\local\\anaconda3\\lib\\site-packages (from pyshex>=0.7.20->linkml) (4.0.0)\n",
      "Requirement already satisfied: pyparsing<4,>=2.1.0 in c:\\users\\smhhborg\\appdata\\local\\anaconda3\\lib\\site-packages (from rdflib>=6.0.0->linkml) (3.0.9)\n",
      "Requirement already satisfied: charset-normalizer<3,>=2 in c:\\users\\smhhborg\\appdata\\local\\anaconda3\\lib\\site-packages (from requests>=2.22->linkml) (2.0.4)\n",
      "Requirement already satisfied: certifi>=2017.4.17 in c:\\users\\smhhborg\\appdata\\local\\anaconda3\\lib\\site-packages (from requests>=2.22->linkml) (2022.12.7)\n",
      "Requirement already satisfied: ruamel.yaml in c:\\users\\smhhborg\\appdata\\local\\anaconda3\\lib\\site-packages (from linkml-dataops->linkml) (0.17.21)\n",
      "Requirement already satisfied: jsonpath-ng in c:\\users\\smhhborg\\appdata\\local\\anaconda3\\lib\\site-packages (from linkml-dataops->linkml) (1.5.3)\n",
      "Requirement already satisfied: jsonpatch in c:\\users\\smhhborg\\appdata\\local\\anaconda3\\lib\\site-packages (from linkml-dataops->linkml) (1.32)\n",
      "Requirement already satisfied: et_xmlfile in c:\\users\\smhhborg\\appdata\\local\\anaconda3\\lib\\site-packages (from openpyxl->linkml) (1.1.0)\n",
      "Requirement already satisfied: pytrie in c:\\users\\smhhborg\\appdata\\local\\anaconda3\\lib\\site-packages (from curies>=0.5.4->linkml-runtime>=1.5.4->linkml) (0.4.0)\n",
      "Requirement already satisfied: zipp>=0.5 in c:\\users\\smhhborg\\appdata\\local\\anaconda3\\lib\\site-packages (from importlib-metadata>=1.0.0->prefixmaps>=0.1.3->linkml) (3.11.0)\n",
      "Requirement already satisfied: pytest>=2.8.1 in c:\\users\\smhhborg\\appdata\\local\\anaconda3\\lib\\site-packages (from pytest-logging<2016.0.0,>=2015.11.4->prefixcommons>=0.1.7->linkml) (7.1.2)\n",
      "Requirement already satisfied: wrapt<2,>=1.10 in c:\\users\\smhhborg\\appdata\\local\\anaconda3\\lib\\site-packages (from deprecated->linkml-runtime>=1.5.4->linkml) (1.14.1)\n",
      "Requirement already satisfied: arrow>=0.15.0 in c:\\users\\smhhborg\\appdata\\local\\anaconda3\\lib\\site-packages (from isoduration->jsonschema[format]>=4.0.0->linkml) (1.2.3)\n",
      "Requirement already satisfied: ply in c:\\users\\smhhborg\\appdata\\local\\anaconda3\\lib\\site-packages (from jsonpath-ng->linkml-dataops->linkml) (3.11)\n",
      "Requirement already satisfied: decorator in c:\\users\\smhhborg\\appdata\\local\\anaconda3\\lib\\site-packages (from jsonpath-ng->linkml-dataops->linkml) (5.1.1)\n",
      "Requirement already satisfied: rdflib-jsonld==0.6.1 in c:\\users\\smhhborg\\appdata\\local\\anaconda3\\lib\\site-packages (from rdflib-shim->pyshex>=0.7.20->linkml) (0.6.1)\n",
      "Requirement already satisfied: ruamel.yaml.clib>=0.2.6 in c:\\users\\smhhborg\\appdata\\local\\anaconda3\\lib\\site-packages (from ruamel.yaml->linkml-dataops->linkml) (0.2.6)\n",
      "Requirement already satisfied: iniconfig in c:\\users\\smhhborg\\appdata\\local\\anaconda3\\lib\\site-packages (from pytest>=2.8.1->pytest-logging<2016.0.0,>=2015.11.4->prefixcommons>=0.1.7->linkml) (1.1.1)\n",
      "Requirement already satisfied: packaging in c:\\users\\smhhborg\\appdata\\local\\anaconda3\\lib\\site-packages (from pytest>=2.8.1->pytest-logging<2016.0.0,>=2015.11.4->prefixcommons>=0.1.7->linkml) (22.0)\n",
      "Requirement already satisfied: pluggy<2.0,>=0.12 in c:\\users\\smhhborg\\appdata\\local\\anaconda3\\lib\\site-packages (from pytest>=2.8.1->pytest-logging<2016.0.0,>=2015.11.4->prefixcommons>=0.1.7->linkml) (1.0.0)\n",
      "Requirement already satisfied: py>=1.8.2 in c:\\users\\smhhborg\\appdata\\local\\anaconda3\\lib\\site-packages (from pytest>=2.8.1->pytest-logging<2016.0.0,>=2015.11.4->prefixcommons>=0.1.7->linkml) (1.11.0)\n",
      "Requirement already satisfied: tomli>=1.0.0 in c:\\users\\smhhborg\\appdata\\local\\anaconda3\\lib\\site-packages (from pytest>=2.8.1->pytest-logging<2016.0.0,>=2015.11.4->prefixcommons>=0.1.7->linkml) (2.0.1)\n",
      "Requirement already satisfied: atomicwrites>=1.0 in c:\\users\\smhhborg\\appdata\\local\\anaconda3\\lib\\site-packages (from pytest>=2.8.1->pytest-logging<2016.0.0,>=2015.11.4->prefixcommons>=0.1.7->linkml) (1.4.0)\n",
      "Requirement already satisfied: sortedcontainers in c:\\users\\smhhborg\\appdata\\local\\anaconda3\\lib\\site-packages (from pytrie->curies>=0.5.4->linkml-runtime>=1.5.4->linkml) (2.4.0)\n",
      "Note: you may need to restart the kernel to use updated packages.\n"
     ]
    }
   ],
   "source": [
    "pip install linkml"
   ]
  },
  {
   "cell_type": "markdown",
   "id": "fd3a7cba",
   "metadata": {},
   "source": [
    "now we need to restart the kernel in this jupyter notebook as packages are not allways updated in an active python session (this is mostly only important to jupyter). you can do so by choosing the option Kernel out of the topbar and there choose Restart.\n",
    "\n",
    "next test whether linkml is correctly installed. You should get a descriptive message of what the tool can do."
   ]
  },
  {
   "cell_type": "code",
   "execution_count": 10,
   "id": "c5d566fb",
   "metadata": {
    "scrolled": true
   },
   "outputs": [
    {
     "name": "stdout",
     "output_type": "stream",
     "text": [
      "Usage: linkml-convert [OPTIONS] INPUT\n",
      "\n",
      "  Converts instance data to and from different LinkML Runtime serialization\n",
      "  formats.\n",
      "\n",
      "  The instance data must conform to a LinkML model, and either a path to a\n",
      "  python module must be passed, or a path to a schema.\n",
      "\n",
      "  The converter works by first using a linkml-runtime *loader* to instantiate\n",
      "  in-memory model objects, then a *dumper* is used to serialize. A validation\n",
      "  step is optionally performed in between\n",
      "\n",
      "  When converting to or from RDF, a path to a schema must be provided.\n",
      "\n",
      "  For more information, see https://linkml.io/linkml/data/index.html\n",
      "\n",
      "Options:\n",
      "  -m, --module TEXT               Path to python datamodel module\n",
      "  -o, --output TEXT               Path to output file\n",
      "  -f, --input-format [yml|yaml|json|rdf|ttl|json-ld|csv|tsv]\n",
      "                                  Input format. Inferred from input suffix if\n",
      "                                  not specified\n",
      "  -t, --output-format [yml|yaml|json|rdf|ttl|json-ld|csv|tsv]\n",
      "                                  Output format. Inferred from output suffix\n",
      "                                  if not specified\n",
      "  -C, --target-class TEXT         name of class in datamodel that the root\n",
      "                                  node instantiates\n",
      "  --target-class-from-path / --no-target-class-from-path\n",
      "                                  Infer the target class from the filename,\n",
      "                                  should be ClassName-<other-\n",
      "                                  chars>.{yaml,json,...}  [default: no-target-\n",
      "                                  class-from-path]\n",
      "  -S, --index-slot TEXT           top level slot. Required for CSV\n",
      "                                  dumping/loading\n",
      "  -s, --schema TEXT               Path to schema specified as LinkML yaml\n",
      "  -P, --prefix TEXT               Prefixmap base=URI pairs\n",
      "  --validate / --no-validate      Validate against the schema  [default:\n",
      "                                  validate]\n",
      "  --infer / --no-infer            Infer missing slot values  [default: no-\n",
      "                                  infer]\n",
      "  -c, --context TEXT              path to JSON-LD context file\n",
      "  -V, --version                   Show the version and exit.\n",
      "  --help                          Show this message and exit.\n"
     ]
    }
   ],
   "source": [
    "!\"linkml-convert\" \"--help\""
   ]
  },
  {
   "cell_type": "markdown",
   "id": "4f9ccf5b",
   "metadata": {},
   "source": [
    "Now we need to create the first file for the tutorial. just go into the directory which you created above. Create anew \".txt\"-file and rename it to \"personinfo.yaml\". it is very important that you change the file ending to yaml and accept the potential damage to the file. You should be able to reopen the file with the text editor or download Notepad++ here:\"https://notepad-plus-plus.org/downloads/\" for a more capable file editor. Just enter the text in the next box into the file and save it. Make sure the ending remains \".yaml\" and not switch to \".yml\"."
   ]
  },
  {
   "cell_type": "code",
   "execution_count": null,
   "id": "7402b0c9",
   "metadata": {},
   "outputs": [],
   "source": [
    "id: https://w3id.org/linkml/examples/personinfo\n",
    "name: personinfo\n",
    "prefixes:\n",
    "  linkml: https://w3id.org/linkml/\n",
    "  personinfo: https://w3id.org/linkml/examples/personinfo\n",
    "imports:\n",
    "  - linkml:types\n",
    "default_range: string\n",
    "default_prefix: personinfo\n",
    "  \n",
    "classes:\n",
    "  Person:\n",
    "    attributes:\n",
    "      id:\n",
    "      full_name:\n",
    "      aliases:\n",
    "      phone:\n",
    "      age:"
   ]
  },
  {
   "cell_type": "markdown",
   "id": "2ea27bb6",
   "metadata": {},
   "source": [
    "next we can test whteher the tool can generate a json schema from the \"personinfo.yaml\"-file"
   ]
  },
  {
   "cell_type": "code",
   "execution_count": 11,
   "id": "50bd2f92",
   "metadata": {},
   "outputs": [
    {
     "name": "stdout",
     "output_type": "stream",
     "text": [
      "{\n",
      "    \"$defs\": {\n",
      "        \"Person\": {\n",
      "            \"additionalProperties\": false,\n",
      "            \"description\": \"\",\n",
      "            \"properties\": {\n",
      "                \"age\": {\n",
      "                    \"type\": \"string\"\n",
      "                },\n",
      "                \"aliases\": {\n",
      "                    \"type\": \"string\"\n",
      "                },\n",
      "                \"full_name\": {\n",
      "                    \"type\": \"string\"\n",
      "                },\n",
      "                \"id\": {\n",
      "                    \"type\": \"string\"\n",
      "                },\n",
      "                \"phone\": {\n",
      "                    \"type\": \"string\"\n",
      "                }\n",
      "            },\n",
      "            \"title\": \"Person\",\n",
      "            \"type\": \"object\"\n",
      "        }\n",
      "    },\n",
      "    \"$id\": \"https://w3id.org/linkml/examples/personinfo\",\n",
      "    \"$schema\": \"http://json-schema.org/draft-07/schema#\",\n",
      "    \"additionalProperties\": true,\n",
      "    \"metamodel_version\": \"1.7.0\",\n",
      "    \"title\": \"personinfo\",\n",
      "    \"type\": \"object\",\n",
      "    \"version\": null\n",
      "}\n"
     ]
    },
    {
     "name": "stderr",
     "output_type": "stream",
     "text": [
      "WARNING:rdflib.term:C:\\Users\\smhhborg\\AppData\\Local\\anaconda3\\lib\\site-packages\\linkml_runtime\\linkml_model\\model\\schema\\types does not look like a valid URI, trying to serialize this will break.\n",
      "INFO:root:Importing linkml:types as C:\\Users\\smhhborg\\AppData\\Local\\anaconda3\\lib\\site-packages\\linkml_runtime\\linkml_model\\model\\schema\\types from source personinfo.yaml; base_dir=None\n"
     ]
    }
   ],
   "source": [
    "!gen-json-schema personinfo.yaml"
   ]
  },
  {
   "cell_type": "code",
   "execution_count": null,
   "id": "b3522973",
   "metadata": {
    "scrolled": true
   },
   "outputs": [],
   "source": [
    "%cd \"../\""
   ]
  }
 ],
 "metadata": {
  "kernelspec": {
   "display_name": "Python 3 (ipykernel)",
   "language": "python",
   "name": "python3"
  },
  "language_info": {
   "codemirror_mode": {
    "name": "ipython",
    "version": 3
   },
   "file_extension": ".py",
   "mimetype": "text/x-python",
   "name": "python",
   "nbconvert_exporter": "python",
   "pygments_lexer": "ipython3",
   "version": "3.10.9"
  }
 },
 "nbformat": 4,
 "nbformat_minor": 5
}
